{
  "cells": [
    {
      "cell_type": "markdown",
      "metadata": {
        "id": "view-in-github",
        "colab_type": "text"
      },
      "source": [
        "<a href=\"https://colab.research.google.com/github/uvsq22206151/S2-python/blob/main/td1_tableaux.ipynb\" target=\"_parent\"><img src=\"https://colab.research.google.com/assets/colab-badge.svg\" alt=\"Open In Colab\"/></a>"
      ]
    },
    {
      "cell_type": "markdown",
      "metadata": {
        "deletable": false,
        "editable": false,
        "run_control": {
          "frozen": true
        },
        "id": "Lnz-_EEaQJ-a"
      },
      "source": [
        "# TD : Listes en python "
      ],
      "id": "Lnz-_EEaQJ-a"
    },
    {
      "cell_type": "markdown",
      "metadata": {
        "deletable": false,
        "editable": false,
        "run_control": {
          "frozen": true
        },
        "id": "3AfA-BppQJ-e"
      },
      "source": [
        "## Exercice 1 : Insertion dans un tableau"
      ],
      "id": "3AfA-BppQJ-e"
    },
    {
      "cell_type": "markdown",
      "metadata": {
        "deletable": false,
        "editable": false,
        "run_control": {
          "frozen": true
        },
        "id": "o8DYaNDwQJ-f"
      },
      "source": [
        "Définir une fonction `insertion_tableau` prenant en paramètre une liste `L`, une valeur `v` et un indice `i` et insérant la valeur `v` à l'indice `i` dans `L` (fonction comparable à `L.insert(i,v)` définie en Python). \n",
        "\n",
        "Cette fonction ne doit pas utiliser la fonction `L.insert`, seule la fonction  `L.append` est permise pour augmenter la taille du tableau."
      ],
      "id": "o8DYaNDwQJ-f"
    },
    {
      "cell_type": "code",
      "execution_count": null,
      "metadata": {
        "tags": [
          "answer"
        ],
        "id": "-iiJYXmxQJ-g"
      },
      "outputs": [],
      "source": [
        "############################## \n",
        "#   Saisir votre code ici.   #\n",
        "##############################\n",
        "L=[]\n",
        "V=\n",
        "i=\n",
        "def insertion_tableau (L[], L[V]=i):\n",
        "  \n",
        "\n",
        "\n",
        "\n",
        "\n"
      ],
      "id": "-iiJYXmxQJ-g"
    },
    {
      "cell_type": "markdown",
      "metadata": {
        "deletable": false,
        "editable": false,
        "run_control": {
          "frozen": true
        },
        "id": "q-Bc2koKQJ-i"
      },
      "source": [
        "Quelle est la complexité asymptotique de la fonction `insertion_tableau` ?"
      ],
      "id": "q-Bc2koKQJ-i"
    },
    {
      "cell_type": "markdown",
      "metadata": {
        "deletable": false,
        "run_control": {
          "frozen": false
        },
        "tags": [
          "answer"
        ],
        "id": "NKmRs0KwQJ-j"
      },
      "source": [
        "**Réponse :** Écrire votre réponse ici.\n",
        "\n",
        "\n"
      ],
      "id": "NKmRs0KwQJ-j"
    },
    {
      "cell_type": "markdown",
      "metadata": {
        "deletable": false,
        "editable": false,
        "run_control": {
          "frozen": true
        },
        "id": "Ol7_MYUZQJ-k"
      },
      "source": [
        "## Exercice 2 : suppression d'un élément dans un tableau\n",
        "\n",
        "Définir la fonction `suppression_tableau` prenant en paramètre un tableau et un indice et supprimant dans le tableau l'élément se trouvant à l'indice donné (fonction similaire à `L.pop(i)`). \n",
        "\n",
        "Pour supprimer un élément, la fonction peut juste appeler la fonction `L.pop()` (sans argument) pour supprimer la dernière case."
      ],
      "id": "Ol7_MYUZQJ-k"
    },
    {
      "cell_type": "code",
      "execution_count": null,
      "metadata": {
        "tags": [
          "answer"
        ],
        "id": "10XsJcGDQJ-k"
      },
      "outputs": [],
      "source": [
        "############################## \n",
        "#   Saisir votre code ici.   #\n",
        "##############################\n",
        "\n",
        "\n"
      ],
      "id": "10XsJcGDQJ-k"
    },
    {
      "cell_type": "markdown",
      "metadata": {
        "deletable": false,
        "editable": false,
        "run_control": {
          "frozen": true
        },
        "id": "fAjnBwoqQJ-l"
      },
      "source": [
        "Quelle est la complexité de la fonction `suppression_tableau` ?"
      ],
      "id": "fAjnBwoqQJ-l"
    },
    {
      "cell_type": "markdown",
      "metadata": {
        "deletable": false,
        "run_control": {
          "frozen": false
        },
        "tags": [
          "answer"
        ],
        "id": "O9TQzHu2QJ-m"
      },
      "source": [
        "**Réponse :** Écrire votre réponse ici.\n",
        "\n",
        "\n"
      ],
      "id": "O9TQzHu2QJ-m"
    },
    {
      "cell_type": "markdown",
      "metadata": {
        "deletable": false,
        "editable": false,
        "run_control": {
          "frozen": true
        },
        "id": "T6QGNWFAQJ-m"
      },
      "source": [
        "## Exercice 3 : Copie d'un tableau"
      ],
      "id": "T6QGNWFAQJ-m"
    },
    {
      "cell_type": "markdown",
      "metadata": {
        "deletable": false,
        "editable": false,
        "run_control": {
          "frozen": true
        },
        "id": "bzSOQZhCQJ-m"
      },
      "source": [
        "Définir la fonction `copie_tableau` retournant une copie du tableau `L` passé en paramètre (fonction comparable à `L.copy()`). \n",
        "\n",
        "Cette fonction ne doit pas utiliser la fonction `L.copy`, seule la fonction `L.append` est permise pour augmenter la taille du tableau."
      ],
      "id": "bzSOQZhCQJ-m"
    },
    {
      "cell_type": "code",
      "execution_count": null,
      "metadata": {
        "tags": [
          "answer"
        ],
        "id": "IXePJI4UQJ-n"
      },
      "outputs": [],
      "source": [
        "############################## \n",
        "#   Saisir votre code ici.   #\n",
        "##############################\n",
        "\n",
        "\n"
      ],
      "id": "IXePJI4UQJ-n"
    },
    {
      "cell_type": "markdown",
      "metadata": {
        "deletable": false,
        "editable": false,
        "run_control": {
          "frozen": true
        },
        "id": "EZJKDQ43QJ-n"
      },
      "source": [
        "Quelle est la complexité asymptotique de la fonction `copie_tableau` ?"
      ],
      "id": "EZJKDQ43QJ-n"
    },
    {
      "cell_type": "markdown",
      "metadata": {
        "deletable": false,
        "run_control": {
          "frozen": false
        },
        "tags": [
          "answer"
        ],
        "id": "h_LMFBBgQJ-o"
      },
      "source": [
        "**Réponse :** Écrire votre réponse ici.\n",
        "\n",
        "\n"
      ],
      "id": "h_LMFBBgQJ-o"
    },
    {
      "cell_type": "markdown",
      "metadata": {
        "deletable": false,
        "editable": false,
        "run_control": {
          "frozen": true
        },
        "id": "RyHAR7-FQJ-p"
      },
      "source": [
        "## Exercice 4 : Fonctions sur des  listes (tableaux) triées ou non triées"
      ],
      "id": "RyHAR7-FQJ-p"
    },
    {
      "cell_type": "markdown",
      "metadata": {
        "deletable": false,
        "editable": false,
        "run_control": {
          "frozen": true
        },
        "id": "BKyN7ih5QJ-q"
      },
      "source": [
        "Les questions de cet exercice ont pour objet de manipuler les listes/tableaux en Python et de comparer ce qui se passe si on travaille avec des tableaux triés ou des tableaux quelconques. Pour chacune des fonctions à implémenter, on définira deux versions : \n",
        "\n",
        "* une première version prendra en paramètre une liste de nombres quelconques. Pour plus d'efficacité, la fonction pourra modifier l'ordre des éléments dans la liste,\n",
        "\n",
        "* la seconde version prendra en paramètre une liste de nombres triés dans l'ordre croissant ; la liste devra rester triée."
      ],
      "id": "BKyN7ih5QJ-q"
    },
    {
      "cell_type": "markdown",
      "metadata": {
        "deletable": false,
        "editable": false,
        "run_control": {
          "frozen": true
        },
        "id": "wiJjlgAuQJ-q"
      },
      "source": [
        "### Question 1 : Minimum d'un tableau"
      ],
      "id": "wiJjlgAuQJ-q"
    },
    {
      "cell_type": "markdown",
      "metadata": {
        "deletable": false,
        "editable": false,
        "run_control": {
          "frozen": true
        },
        "id": "v2yMXzhVQJ-q"
      },
      "source": [
        "* Définir la fonction `minimum_tableau` prenant en paramètre un tableau de nombres et retournant le minimum."
      ],
      "id": "v2yMXzhVQJ-q"
    },
    {
      "cell_type": "code",
      "execution_count": null,
      "metadata": {
        "tags": [
          "answer"
        ],
        "id": "N0XpYpWmQJ-q"
      },
      "outputs": [],
      "source": [
        "############################## \n",
        "#   Saisir votre code ici.   #\n",
        "##############################\n",
        "\n",
        "\n"
      ],
      "id": "N0XpYpWmQJ-q"
    },
    {
      "cell_type": "markdown",
      "metadata": {
        "deletable": false,
        "editable": false,
        "run_control": {
          "frozen": true
        },
        "id": "pwK7mU3-QJ-r"
      },
      "source": [
        "* Définir la fonction `minimum_tableau_trie` prenant en paramètre un tableau de nombres triés dans l'ordre croissant et retournant le minimum."
      ],
      "id": "pwK7mU3-QJ-r"
    },
    {
      "cell_type": "code",
      "execution_count": null,
      "metadata": {
        "tags": [
          "answer"
        ],
        "id": "Lo1nRdfzQJ-r"
      },
      "outputs": [],
      "source": [
        "############################## \n",
        "#   Saisir votre code ici.   #\n",
        "##############################\n",
        "\n",
        "\n"
      ],
      "id": "Lo1nRdfzQJ-r"
    },
    {
      "cell_type": "markdown",
      "metadata": {
        "deletable": false,
        "editable": false,
        "run_control": {
          "frozen": true
        },
        "id": "j-WGVr6KQJ-r"
      },
      "source": [
        "- Quelle est la complexité dans le pire des cas de chacune de ces fonctions ?"
      ],
      "id": "j-WGVr6KQJ-r"
    },
    {
      "cell_type": "markdown",
      "metadata": {
        "deletable": false,
        "run_control": {
          "frozen": false
        },
        "tags": [
          "answer"
        ],
        "id": "thIJuzoyQJ-r"
      },
      "source": [
        "**Réponse :** Écrire votre réponse ici.\n",
        "\n",
        "\n"
      ],
      "id": "thIJuzoyQJ-r"
    },
    {
      "cell_type": "markdown",
      "metadata": {
        "deletable": false,
        "editable": false,
        "run_control": {
          "frozen": true
        },
        "id": "In445i8PQJ-s"
      },
      "source": [
        "### Question 2 : Ajout d'un élément"
      ],
      "id": "In445i8PQJ-s"
    },
    {
      "cell_type": "markdown",
      "metadata": {
        "deletable": false,
        "editable": false,
        "run_control": {
          "frozen": true
        },
        "id": "j-4xs1uHQJ-s"
      },
      "source": [
        "* Définir la fonction `ajouter_tableau` ajoutant un nombre à un tableau de nombres."
      ],
      "id": "j-4xs1uHQJ-s"
    },
    {
      "cell_type": "code",
      "execution_count": null,
      "metadata": {
        "tags": [
          "answer"
        ],
        "id": "kG0YRZwFQJ-s"
      },
      "outputs": [],
      "source": [
        "############################## \n",
        "#   Saisir votre code ici.   #\n",
        "##############################\n",
        "\n",
        "\n"
      ],
      "id": "kG0YRZwFQJ-s"
    },
    {
      "cell_type": "markdown",
      "metadata": {
        "deletable": false,
        "editable": false,
        "run_control": {
          "frozen": true
        },
        "id": "qzkWeswCQJ-s"
      },
      "source": [
        "* Définir la fonction `ajouter_tableau_trie` ajoutant un nombre à un tableau trié."
      ],
      "id": "qzkWeswCQJ-s"
    },
    {
      "cell_type": "code",
      "execution_count": null,
      "metadata": {
        "tags": [
          "answer"
        ],
        "id": "BwCVYFBbQJ-s"
      },
      "outputs": [],
      "source": [
        "############################## \n",
        "#   Saisir votre code ici.   #\n",
        "##############################\n",
        "\n",
        "\n"
      ],
      "id": "BwCVYFBbQJ-s"
    },
    {
      "cell_type": "markdown",
      "metadata": {
        "deletable": false,
        "editable": false,
        "run_control": {
          "frozen": true
        },
        "id": "hRbZymZnQJ-t"
      },
      "source": [
        "- Quelle est la complexité dans le pire des cas de chacune de ces fonctions ?"
      ],
      "id": "hRbZymZnQJ-t"
    },
    {
      "cell_type": "markdown",
      "metadata": {
        "deletable": false,
        "run_control": {
          "frozen": false
        },
        "tags": [
          "answer"
        ],
        "id": "dKoOJnvZQJ-t"
      },
      "source": [
        "**Réponse :** Écrire votre réponse ici.\n",
        "\n",
        "\n"
      ],
      "id": "dKoOJnvZQJ-t"
    },
    {
      "cell_type": "markdown",
      "metadata": {
        "deletable": false,
        "editable": false,
        "run_control": {
          "frozen": true
        },
        "id": "WZ7EQ1-HQJ-t"
      },
      "source": [
        "### Question 3 : Suppression d'un élément"
      ],
      "id": "WZ7EQ1-HQJ-t"
    },
    {
      "cell_type": "markdown",
      "metadata": {
        "deletable": false,
        "editable": false,
        "run_control": {
          "frozen": true
        },
        "id": "-RIUlNCRQJ-t"
      },
      "source": [
        "* Définir la fonction `supprimer_tableau` prenant en paramètre un tableau et un indice `id` et supprimant dans le tableau la valeur d'indice `id`.\n",
        "\n",
        "  On utilisera pour cela la fonction `L.pop()` qui supprime la dernière case d'un tableau, mais pas la fonction `L.pop(i)`"
      ],
      "id": "-RIUlNCRQJ-t"
    },
    {
      "cell_type": "code",
      "execution_count": null,
      "metadata": {
        "tags": [
          "answer"
        ],
        "id": "iG1l9gA0QJ-t"
      },
      "outputs": [],
      "source": [
        "############################## \n",
        "#   Saisir votre code ici.   #\n",
        "##############################\n",
        "\n",
        "\n"
      ],
      "id": "iG1l9gA0QJ-t"
    },
    {
      "cell_type": "markdown",
      "metadata": {
        "deletable": false,
        "editable": false,
        "run_control": {
          "frozen": true
        },
        "id": "TqJHsCz3QJ-u"
      },
      "source": [
        "* Définir la fonction `supprimer_tableau_trie` prenant en paramètre un tableau trié et un indice `id` et supprimant dans le tableau la valeur d'indice `id`."
      ],
      "id": "TqJHsCz3QJ-u"
    },
    {
      "cell_type": "code",
      "execution_count": null,
      "metadata": {
        "tags": [
          "answer"
        ],
        "id": "G2n9yQcWQJ-u"
      },
      "outputs": [],
      "source": [
        "############################## \n",
        "#   Saisir votre code ici.   #\n",
        "##############################\n",
        "\n",
        "\n"
      ],
      "id": "G2n9yQcWQJ-u"
    },
    {
      "cell_type": "markdown",
      "metadata": {
        "deletable": false,
        "editable": false,
        "run_control": {
          "frozen": true
        },
        "id": "GkA3GUzFQJ-u"
      },
      "source": [
        "- Quelle est la complexité dans le pire des cas de chacune de ces fonctions ?"
      ],
      "id": "GkA3GUzFQJ-u"
    },
    {
      "cell_type": "markdown",
      "metadata": {
        "deletable": false,
        "run_control": {
          "frozen": false
        },
        "tags": [
          "answer"
        ],
        "id": "gLcdTpY8QJ-u"
      },
      "source": [
        "**Réponse :** Écrire votre réponse ici.\n",
        "\n",
        "\n"
      ],
      "id": "gLcdTpY8QJ-u"
    },
    {
      "cell_type": "markdown",
      "metadata": {
        "deletable": false,
        "editable": false,
        "run_control": {
          "frozen": true
        },
        "id": "GyLGg5WUQJ-u"
      },
      "source": [
        "## Exercice 5 : Réarrangement de tableau**"
      ],
      "id": "GyLGg5WUQJ-u"
    },
    {
      "cell_type": "markdown",
      "metadata": {
        "deletable": false,
        "editable": false,
        "run_control": {
          "frozen": true
        },
        "id": "Kel3Qe9wQJ-v"
      },
      "source": [
        "### Question 1\n",
        "\n",
        "Écrire une fonction `deplacer(T, k)` prenant en paramètre un tableau `T` et une valeur `k` et permutant les valeurs du tableau `T` de manière à ce que toutes les valeurs strictement inférieures à `k` soient au début de tableau. "
      ],
      "id": "Kel3Qe9wQJ-v"
    },
    {
      "cell_type": "markdown",
      "metadata": {
        "deletable": false,
        "editable": false,
        "run_control": {
          "frozen": true
        },
        "id": "fn5wUjr6QJ-v"
      },
      "source": [
        "**Remarque :** L'ordre des éléments dans le tableau n'a pas d'importance tant que les éléments strictement inférieurs à `k` sont placés au début du tableau."
      ],
      "id": "fn5wUjr6QJ-v"
    },
    {
      "cell_type": "code",
      "execution_count": null,
      "metadata": {
        "tags": [
          "answer"
        ],
        "id": "YxnP7Q0oQJ-v"
      },
      "outputs": [],
      "source": [
        "############################## \n",
        "#   Saisir votre code ici.   #\n",
        "##############################\n",
        "\n",
        "\n"
      ],
      "id": "YxnP7Q0oQJ-v"
    },
    {
      "cell_type": "markdown",
      "metadata": {
        "deletable": false,
        "editable": false,
        "run_control": {
          "frozen": true
        },
        "id": "7K1VbdW4QJ-v"
      },
      "source": [
        "### Question 2\n",
        "\n",
        "Définir une fonction de tests unitaires de la fonction `deplacer`."
      ],
      "id": "7K1VbdW4QJ-v"
    },
    {
      "cell_type": "code",
      "execution_count": null,
      "metadata": {
        "tags": [
          "answer"
        ],
        "id": "ayGfTYOhQJ-v"
      },
      "outputs": [],
      "source": [
        "############################## \n",
        "#   Saisir votre code ici.   #\n",
        "##############################\n",
        "\n",
        "\n"
      ],
      "id": "ayGfTYOhQJ-v"
    }
  ],
  "metadata": {
    "celltoolbar": "Format de la Cellule Texte Brut",
    "kernelspec": {
      "display_name": "Python 3",
      "language": "python",
      "name": "python3"
    },
    "language_info": {
      "codemirror_mode": {
        "name": "ipython",
        "version": 3
      },
      "file_extension": ".py",
      "mimetype": "text/x-python",
      "name": "python",
      "nbconvert_exporter": "python",
      "pygments_lexer": "ipython3",
      "version": "3.8.5"
    },
    "toc": {
      "base_numbering": 1,
      "nav_menu": {},
      "number_sections": false,
      "sideBar": false,
      "skip_h1_title": false,
      "title_cell": "Table of Contents",
      "title_sidebar": "Contents",
      "toc_cell": false,
      "toc_position": {},
      "toc_section_display": false,
      "toc_window_display": false
    },
    "colab": {
      "provenance": [],
      "toc_visible": true,
      "include_colab_link": true
    }
  },
  "nbformat": 4,
  "nbformat_minor": 5
}